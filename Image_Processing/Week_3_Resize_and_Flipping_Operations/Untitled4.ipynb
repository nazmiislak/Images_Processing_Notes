{
 "cells": [
  {
   "cell_type": "code",
   "execution_count": 1,
   "id": "f8dd45e9-6c7d-463e-90cf-3d6c11616d28",
   "metadata": {},
   "outputs": [],
   "source": [
    "import cv2\n",
    "import numpy as np"
   ]
  },
  {
   "cell_type": "code",
   "execution_count": 3,
   "id": "047bea17-ed7d-47a9-a930-6dd658df9f3a",
   "metadata": {},
   "outputs": [
    {
     "data": {
      "text/plain": [
       "(330, 340, 3)"
      ]
     },
     "execution_count": 3,
     "metadata": {},
     "output_type": "execute_result"
    }
   ],
   "source": [
    "my_img=cv2.imread(\"./resim.jpg\",1)\n",
    "my_img.shape"
   ]
  },
  {
   "cell_type": "code",
   "execution_count": 5,
   "id": "513a95e7-c767-47f0-b6a4-91162d7b1c3e",
   "metadata": {},
   "outputs": [],
   "source": [
    "cv2.imshow(\"RGB image\",my_img)\n",
    "cv2.waitKey(0)\n",
    "cv2.destroyAllWindows()"
   ]
  },
  {
   "cell_type": "code",
   "execution_count": 7,
   "id": "bdf23217-05cb-42a1-8d0e-1569b82dfc9a",
   "metadata": {},
   "outputs": [],
   "source": [
    "vertical_img=cv2.flip(my_img,0)\n",
    "horizontal_img=cv2.flip(my_img,1)\n",
    "both_img=cv2.flip(my_img,-1)"
   ]
  },
  {
   "cell_type": "code",
   "execution_count": 9,
   "id": "15efa9ce-bb83-4951-b842-dd523ae3d2a1",
   "metadata": {},
   "outputs": [],
   "source": [
    "cv2.imshow(\"original image\",my_img)\n",
    "cv2.imshow(\"vertical image\",vertical_img)\n",
    "cv2.imshow(\"horizontal image\",horizontal_img)\n",
    "cv2.imshow(\"vertical and horizontal image\",both_img)\n",
    "cv2.waitKey(0)\n",
    "cv2.destroyAllWindows()"
   ]
  },
  {
   "cell_type": "code",
   "execution_count": 11,
   "id": "ba403c5c-f3ae-4b77-be43-4caa41066621",
   "metadata": {},
   "outputs": [
    {
     "data": {
      "text/plain": [
       "numpy.ndarray"
      ]
     },
     "execution_count": 11,
     "metadata": {},
     "output_type": "execute_result"
    }
   ],
   "source": [
    "type(my_img)\n"
   ]
  },
  {
   "cell_type": "code",
   "execution_count": 13,
   "id": "b1355398-930e-4901-a352-ad5895ab39b6",
   "metadata": {},
   "outputs": [],
   "source": [
    "new_vertical_img= my_img[::-1,:,:]\n",
    "new_horizontal_img= my_img[:,::-1,:]\n",
    "new_both_img= my_img[::-1,::1,:]"
   ]
  },
  {
   "cell_type": "code",
   "execution_count": 15,
   "id": "76c1a9ae-dd45-4479-a300-e9be7723f6d4",
   "metadata": {},
   "outputs": [],
   "source": [
    "cv2.imshow(\"original image\",my_img)\n",
    "cv2.imshow(\"vertical image\",new_vertical_img)\n",
    "cv2.imshow(\"horizontal image\",new_horizontal_img)\n",
    "cv2.imshow(\"vertical and horizontal image\",new_both_img)\n",
    "cv2.waitKey(0)\n",
    "cv2.destroyAllWindows()\n"
   ]
  },
  {
   "cell_type": "code",
   "execution_count": 19,
   "id": "735981da-2be0-4fff-b883-325e2dca983d",
   "metadata": {},
   "outputs": [],
   "source": [
    "my_resized_img=cv2.resize(my_img,(600,650),cv2.INTER_LANCZOS4)\n",
    "cv2.imshow(\"original image\",my_img)\n",
    "cv2.imshow(\"resized image\",my_resized_img)\n",
    "cv2.waitKey(0)\n",
    "cv2.destroyAllWindows()"
   ]
  },
  {
   "cell_type": "code",
   "execution_count": 23,
   "id": "3e044700-1716-410b-b9be-5b34a9b1750c",
   "metadata": {},
   "outputs": [],
   "source": [
    "my_resized1_img=cv2.resize(my_img,(150,180),cv2.INTER_LANCZOS4)\n",
    "cv2.imshow(\"original image\",my_img)\n",
    "cv2.imshow(\"resized image\",my_resized1_img)\n",
    "cv2.waitKey(0)\n",
    "cv2.destroyAllWindows()"
   ]
  },
  {
   "cell_type": "code",
   "execution_count": 25,
   "id": "7d0aaca5-8e72-4cd1-9da9-f56bf8d615f6",
   "metadata": {},
   "outputs": [
    {
     "data": {
      "text/plain": [
       "True"
      ]
     },
     "execution_count": 25,
     "metadata": {},
     "output_type": "execute_result"
    }
   ],
   "source": [
    "cv2.imwrite(\"./resized_image_output.png\",my_resized_img)"
   ]
  },
  {
   "cell_type": "code",
   "execution_count": null,
   "id": "395bd8f4-06b4-4e20-afb5-a475a1faade7",
   "metadata": {},
   "outputs": [],
   "source": []
  }
 ],
 "metadata": {
  "kernelspec": {
   "display_name": "ybs",
   "language": "python",
   "name": "ybs"
  },
  "language_info": {
   "codemirror_mode": {
    "name": "ipython",
    "version": 3
   },
   "file_extension": ".py",
   "mimetype": "text/x-python",
   "name": "python",
   "nbconvert_exporter": "python",
   "pygments_lexer": "ipython3",
   "version": "3.10.10"
  }
 },
 "nbformat": 4,
 "nbformat_minor": 5
}
